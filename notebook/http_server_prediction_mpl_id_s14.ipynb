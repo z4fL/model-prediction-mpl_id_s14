{
  "nbformat": 4,
  "nbformat_minor": 0,
  "metadata": {
    "colab": {
      "provenance": [],
      "toc_visible": true
    },
    "kernelspec": {
      "name": "python3",
      "display_name": "Python 3"
    },
    "language_info": {
      "name": "python"
    }
  },
  "cells": [
    {
      "cell_type": "markdown",
      "source": [
        "# HTTP server simple for prediction"
      ],
      "metadata": {
        "id": "-1oO_Jeabu1I"
      }
    },
    {
      "cell_type": "markdown",
      "source": [
        "## Init library"
      ],
      "metadata": {
        "id": "d7zSo7-d2Sjc"
      }
    },
    {
      "cell_type": "markdown",
      "source": [
        "install flask-ngrok"
      ],
      "metadata": {
        "id": "ICVuAZdAbhoG"
      }
    },
    {
      "cell_type": "code",
      "execution_count": null,
      "metadata": {
        "id": "VWif43my0m2Y",
        "colab": {
          "base_uri": "https://localhost:8080/"
        },
        "outputId": "82615c3c-17d6-4492-e7a2-7e8de808d7d2"
      },
      "outputs": [
        {
          "output_type": "stream",
          "name": "stdout",
          "text": [
            "Collecting pyngrok\n",
            "  Downloading pyngrok-7.2.1-py3-none-any.whl.metadata (8.3 kB)\n",
            "Requirement already satisfied: PyYAML>=5.1 in /usr/local/lib/python3.10/dist-packages (from pyngrok) (6.0.2)\n",
            "Downloading pyngrok-7.2.1-py3-none-any.whl (22 kB)\n",
            "Installing collected packages: pyngrok\n",
            "Successfully installed pyngrok-7.2.1\n"
          ]
        }
      ],
      "source": [
        "!pip install pyngrok"
      ]
    },
    {
      "cell_type": "markdown",
      "source": [
        "import libraries"
      ],
      "metadata": {
        "id": "MYeiahClbkfa"
      }
    },
    {
      "cell_type": "code",
      "source": [
        "import joblib\n",
        "import pandas as pd\n",
        "import numpy as np\n",
        "\n",
        "import os\n",
        "import threading\n",
        "import time\n",
        "\n",
        "from flask import Flask, request, jsonify\n",
        "from pyngrok import ngrok\n",
        "\n",
        "from google.colab import userdata"
      ],
      "metadata": {
        "id": "j3F0sm6j06Cf"
      },
      "execution_count": null,
      "outputs": []
    },
    {
      "cell_type": "markdown",
      "source": [
        "auth token ngrok"
      ],
      "metadata": {
        "id": "kj9_mS0mdzyq"
      }
    },
    {
      "cell_type": "code",
      "source": [
        "ngrok.set_auth_token(userdata.get('AUTH_TOKEN'))"
      ],
      "metadata": {
        "colab": {
          "base_uri": "https://localhost:8080/"
        },
        "id": "0pnZz_jvuvls",
        "outputId": "bef4435c-d122-43ce-ee35-e5c1e8ecc54e"
      },
      "execution_count": null,
      "outputs": [
        {
          "output_type": "stream",
          "name": "stdout",
          "text": []
        }
      ]
    },
    {
      "cell_type": "markdown",
      "source": [
        "## helper function"
      ],
      "metadata": {
        "id": "U-C5lcvTbolZ"
      }
    },
    {
      "cell_type": "code",
      "source": [
        "def feature_engineering(mpl_df, attribute_df):\n",
        "    # Buat dictionary hero untuk lookup cepat\n",
        "    attribute_dict = attribute_df.set_index('hero')[['durability', 'offense', 'control_effects', 'difficulty', 'early', 'mid', 'late']].to_dict('index')\n",
        "\n",
        "    # Fungsi untuk menghitung total atribut untuk setiap tim\n",
        "    def sum_attributes(row, side):\n",
        "        positions = ['explaner', 'jungler', 'midlaner', 'goldlaner', 'roamer']\n",
        "        features = ['durability', 'offense', 'control_effects', 'difficulty', 'early', 'mid', 'late']\n",
        "        side_sums = {f\"{side}_{feature}\": sum(attribute_dict.get(row[f\"{side}_{pos}\"], {}).get(feature, 0) for pos in positions) for feature in features}\n",
        "        return pd.Series(side_sums)\n",
        "\n",
        "    # Apply fungsi sum_attributes untuk blue dan red team\n",
        "    blue_features = mpl_df.apply(lambda row: sum_attributes(row, 'blue'), axis=1)\n",
        "    red_features = mpl_df.apply(lambda row: sum_attributes(row, 'red'), axis=1)\n",
        "\n",
        "    # Gabungkan hasil ke dalam mpl_df\n",
        "    mpl_df = pd.concat([mpl_df, blue_features, red_features], axis=1)\n",
        "\n",
        "    # Hitung total power spike\n",
        "    mpl_df['blue_total_power_spike'] = mpl_df[['blue_early', 'blue_mid', 'blue_late']].sum(axis=1)\n",
        "    mpl_df['red_total_power_spike'] = mpl_df[['red_early', 'red_mid', 'red_late']].sum(axis=1)\n",
        "\n",
        "    # Tambahkan perbedaan atribut\n",
        "    mpl_df['durability_diff'] = mpl_df['blue_durability'] - mpl_df['red_durability']\n",
        "    mpl_df['offense_diff'] = mpl_df['blue_offense'] - mpl_df['red_offense']\n",
        "    mpl_df['control_effects_diff'] = mpl_df['blue_control_effects'] - mpl_df['red_control_effects']\n",
        "    mpl_df['difficulty_diff'] = mpl_df['blue_difficulty'] - mpl_df['red_difficulty']\n",
        "    mpl_df['power_spike_diff'] = mpl_df['blue_total_power_spike'] - mpl_df['red_total_power_spike']\n",
        "\n",
        "    # Rata-rata nilai untuk role per team\n",
        "    for feature in ['durability', 'offense']:\n",
        "        mpl_df[f'blue_avg_{feature}'] = mpl_df[f'blue_{feature}'] / 5\n",
        "        mpl_df[f'red_avg_{feature}'] = mpl_df[f'red_{feature}'] / 5\n",
        "\n",
        "    # Aggressiveness score\n",
        "    mpl_df['blue_aggressiveness_score'] = mpl_df['blue_offense'] / mpl_df['blue_durability']\n",
        "    mpl_df['red_aggressiveness_score'] = mpl_df['red_offense'] / mpl_df['red_durability']\n",
        "\n",
        "    # Perbandingan early-mid dan mid-late untuk kedua tim\n",
        "    for side in ['blue', 'red']:\n",
        "        mpl_df[f'{side}_early_mid_ratio'] = np.where(mpl_df[f'{side}_mid'] == 0, 1, mpl_df[f'{side}_early'] / mpl_df[f'{side}_mid'])\n",
        "        mpl_df[f'{side}_mid_late_ratio'] = np.where(mpl_df[f'{side}_late'] == 0, 1, mpl_df[f'{side}_mid'] / mpl_df[f'{side}_late'])\n",
        "\n",
        "    # Drop kolom posisi yang tidak dipakai\n",
        "    mpl_df.drop(columns=[f'{side}_{pos}' for side in ['blue', 'red'] for pos in ['explaner', 'jungler', 'midlaner', 'goldlaner', 'roamer']], inplace=True)\n",
        "\n",
        "    # Drop kolom atribut yang sudah dihitung\n",
        "    drop_columns = [\n",
        "        'blue_durability', 'blue_offense', 'blue_control_effects', 'blue_difficulty',\n",
        "        'red_durability', 'red_offense', 'red_control_effects', 'red_difficulty',\n",
        "        'blue_total_power_spike', 'red_total_power_spike',\n",
        "        'blue_early', 'blue_mid', 'blue_late',\n",
        "        'red_early', 'red_mid', 'red_late'\n",
        "    ]\n",
        "    mpl_df.drop(columns=drop_columns, inplace=True)\n",
        "\n",
        "    return mpl_df.round(3)"
      ],
      "metadata": {
        "id": "ocA105-tKQQ2"
      },
      "execution_count": null,
      "outputs": []
    },
    {
      "cell_type": "markdown",
      "source": [
        "## load model"
      ],
      "metadata": {
        "id": "z_s8dYKUb3jA"
      }
    },
    {
      "cell_type": "code",
      "source": [
        "# Load model\n",
        "model = joblib.load('model_rf.pkl')"
      ],
      "metadata": {
        "id": "JS-4VthP6gbL"
      },
      "execution_count": null,
      "outputs": []
    },
    {
      "cell_type": "markdown",
      "source": [
        "## init server"
      ],
      "metadata": {
        "id": "Ji1-uV1Jb5Sk"
      }
    },
    {
      "cell_type": "code",
      "source": [
        "app = Flask(__name__)\n",
        "port = \"5000\""
      ],
      "metadata": {
        "id": "wUyQwwci6j-B"
      },
      "execution_count": null,
      "outputs": []
    },
    {
      "cell_type": "code",
      "source": [
        "# Open a ngrok tunnel to the HTTP server\n",
        "public_url = ngrok.connect(port).public_url\n",
        "print(f\" * ngrok tunnel \\\"{public_url}\\\" -> \\\"http://127.0.0.1:{port}\\\"\")"
      ],
      "metadata": {
        "colab": {
          "base_uri": "https://localhost:8080/"
        },
        "id": "c3x_9hr_iMMe",
        "outputId": "f978ea94-4862-4e34-dbd9-27895b6e5754"
      },
      "execution_count": null,
      "outputs": [
        {
          "output_type": "stream",
          "name": "stdout",
          "text": [
            " * ngrok tunnel \"https://97f8-34-86-196-69.ngrok-free.app\" -> \"http://127.0.0.1:5000\"\n"
          ]
        }
      ]
    },
    {
      "cell_type": "code",
      "source": [
        "_shutdown_event = threading.Event()\n",
        "\n",
        "def shutdown_server():\n",
        "    _shutdown_event.set()"
      ],
      "metadata": {
        "id": "pMc3ws1y4z0M"
      },
      "execution_count": null,
      "outputs": []
    },
    {
      "cell_type": "code",
      "source": [
        "@app.route(\"/\")\n",
        "def index():\n",
        "    return \"Hello from Colab!\"\n",
        "\n",
        "\n",
        "@app.route('/shutdown')\n",
        "def shutdown():\n",
        "    shutdown_server()\n",
        "    return 'Server shutting down...'\n",
        "\n",
        "\n",
        "@app.route('/predict', methods=['POST'])\n",
        "def predict():\n",
        "    data = request.get_json()\n",
        "    picks_df = pd.DataFrame(data['data_picks'])\n",
        "    attributes_df = pd.DataFrame(data['attributes'])\n",
        "\n",
        "    # Lakukan feature engineering\n",
        "    processed_data = feature_engineering(picks_df, attributes_df)\n",
        "\n",
        "    # Prediksi kelas\n",
        "    prediction = model.predict(processed_data)\n",
        "\n",
        "    # Konversi hasil prediksi ke string (misalnya 'RED' atau 'BLUE')\n",
        "    result = {'prediction': str(prediction[0])}\n",
        "\n",
        "    return jsonify(result)"
      ],
      "metadata": {
        "id": "b5KNnL8iiUew"
      },
      "execution_count": null,
      "outputs": []
    },
    {
      "cell_type": "markdown",
      "source": [
        "# Run Server"
      ],
      "metadata": {
        "id": "v7BB7Or1reS1"
      }
    },
    {
      "cell_type": "code",
      "source": [
        "# Start the Flask server in a new thread\n",
        "threading.Thread(target=app.run, kwargs={\"use_reloader\": False}).start()"
      ],
      "metadata": {
        "id": "GYBAcJHAvZ8m",
        "colab": {
          "base_uri": "https://localhost:8080/"
        },
        "outputId": "7c3e8550-98ba-4b39-9549-c6789ab65141"
      },
      "execution_count": null,
      "outputs": [
        {
          "output_type": "stream",
          "name": "stdout",
          "text": [
            " * Serving Flask app '__main__'\n",
            " * Debug mode: off\n"
          ]
        },
        {
          "output_type": "stream",
          "name": "stderr",
          "text": [
            "INFO:werkzeug:\u001b[31m\u001b[1mWARNING: This is a development server. Do not use it in a production deployment. Use a production WSGI server instead.\u001b[0m\n",
            " * Running on http://127.0.0.1:5000\n",
            "INFO:werkzeug:\u001b[33mPress CTRL+C to quit\u001b[0m\n"
          ]
        }
      ]
    },
    {
      "cell_type": "code",
      "source": [
        "ngrok.disconnect(public_url)"
      ],
      "metadata": {
        "colab": {
          "base_uri": "https://localhost:8080/"
        },
        "id": "5eITgsqLxqcW",
        "outputId": "918a8cbb-4ef1-4a43-b0b6-e697cf19999b"
      },
      "execution_count": null,
      "outputs": [
        {
          "output_type": "stream",
          "name": "stderr",
          "text": [
            "WARNING:pyngrok.process.ngrok:t=2024-11-21T12:19:00+0000 lvl=warn msg=\"Stopping forwarder\" name=http-5000-5f22ef6b-5a1f-4cfd-a295-dc4bc990b5a3 acceptErr=\"failed to accept connection: Listener closed\"\n"
          ]
        }
      ]
    }
  ]
}